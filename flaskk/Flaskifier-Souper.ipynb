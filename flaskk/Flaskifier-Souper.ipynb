{
 "cells": [
  {
   "cell_type": "code",
   "execution_count": 1,
   "metadata": {},
   "outputs": [
    {
     "name": "stdout",
     "output_type": "stream",
     "text": [
      "<html>\n",
      " <head>\n",
      "  <title>\n",
      "   The Dormouse's story\n",
      "  </title>\n",
      " </head>\n",
      " <body>\n",
      "  <p class=\"title\">\n",
      "   <b>\n",
      "    The Dormouse's story\n",
      "   </b>\n",
      "  </p>\n",
      "  <p class=\"story\">\n",
      "   Once upon a time there were three little sisters; and their names were\n",
      "   <a class=\"sister\" href=\"http://example.com/elsie\" id=\"link1\">\n",
      "    Elsie\n",
      "   </a>\n",
      "   ,\n",
      "   <a class=\"sister\" href=\"http://example.com/lacie\" id=\"link2\">\n",
      "    Lacie\n",
      "   </a>\n",
      "   and\n",
      "   <a class=\"sister\" href=\"http://example.com/tillie\" id=\"link3\">\n",
      "    Tillie\n",
      "   </a>\n",
      "   ;\n",
      "and they lived at the bottom of a well.\n",
      "  </p>\n",
      "  <p class=\"story\">\n",
      "   ...\n",
      "  </p>\n",
      " </body>\n",
      "</html>\n"
     ]
    }
   ],
   "source": [
    "html_doc = \"\"\"\n",
    "<html><head><title>The Dormouse's story</title></head>\n",
    "<body>\n",
    "<p class=\"title\"><b>The Dormouse's story</b></p>\n",
    "\n",
    "<p class=\"story\">Once upon a time there were three little sisters; and their names were\n",
    "<a href=\"http://example.com/elsie\" class=\"sister\" id=\"link1\">Elsie</a>,\n",
    "<a href=\"http://example.com/lacie\" class=\"sister\" id=\"link2\">Lacie</a> and\n",
    "<a href=\"http://example.com/tillie\" class=\"sister\" id=\"link3\">Tillie</a>;\n",
    "and they lived at the bottom of a well.</p>\n",
    "\n",
    "<p class=\"story\">...</p>\n",
    "\"\"\"\n",
    "\n",
    "from bs4 import BeautifulSoup\n",
    "soup = BeautifulSoup(html_doc, 'html.parser')\n",
    "\n",
    "print(soup.prettify())\n"
   ]
  },
  {
   "cell_type": "code",
   "execution_count": 22,
   "metadata": {},
   "outputs": [
    {
     "name": "stdout",
     "output_type": "stream",
     "text": [
      "<html>\n",
      " <head>\n",
      "  <style>\n",
      "   .button1 {\n",
      "  border-radius: 0px;\n",
      "  color: #ffffff;\n",
      "  background-color: #aa0000;\n",
      "  border: 1px solid #ffffff;\n",
      "  width: 130px;\n",
      "  height: 30px;\n",
      "  display: block;\n",
      "  /*transform: rotate(-20deg);*/\n",
      "}\n",
      "\n",
      ".button1:hover {\n",
      "  background-color: #550000;\n",
      "}\n",
      "\n",
      ".button2 {\n",
      "  border-radius: 0px;\n",
      "  color: #ffffff;\n",
      "  background-color: #aa0000;\n",
      "  border: 1px solid #ffffff;\n",
      "  width: 100px;\n",
      "  height: 30px;\n",
      "  display: inline;\n",
      "  /*transform: rotate(-20deg);*/\n",
      "}\n",
      "\n",
      ".button2:hover {\n",
      "  background-color: #550000;\n",
      "}\n",
      "\n",
      ".centered {\n",
      "  float: left;\n",
      "  position: relative;\n",
      "  left: 30%;\n",
      "}\n",
      "\n",
      ".centered2 {\n",
      "  float: left;\n",
      "  position: relative;\n",
      "  left: 10%;\n",
      "}\n",
      "\n",
      "\n",
      ".widhinp {\n",
      "  display: inline-block;\n",
      "  width: 6em;\n",
      "  position: relative;\n",
      "}\n",
      "\n",
      ".widhlabel {\n",
      "  display: inline-block;\n",
      "  text-align: center;\n",
      "  width: 6em;\n",
      "  margin-right: 0.5em;\n",
      "}\n",
      "\n",
      "table{\n",
      "  border: 3px solid black;\n",
      "  border-collapse: collapse;\n",
      "}\n",
      "\n",
      "td{\n",
      "  border: 1px solid grey;\n",
      "  margin-left: 0px;\n",
      "  margin-top: 0px;\n",
      "}\n",
      "  </style>\n",
      " </head>\n",
      " <body>\n",
      "  <p class=\"title\">\n",
      "   <b>\n",
      "    The Dormouse's story\n",
      "   </b>\n",
      "  </p>\n",
      "  <p class=\"story\">\n",
      "   Once upon a time there were three little sisters; and their names were\n",
      "   <a class=\"sister\" href=\"http://example.com/elsie\" id=\"link1\">\n",
      "    Elsie\n",
      "   </a>\n",
      "   ,\n",
      "   <a class=\"sister\" href=\"http://example.com/lacie\" id=\"link2\">\n",
      "    Lacie\n",
      "   </a>\n",
      "   and\n",
      "   <a class=\"sister\" href=\"http://example.com/tillie\" id=\"link3\">\n",
      "    Tillie\n",
      "   </a>\n",
      "   ;\n",
      "and they lived at the bottom of a well.\n",
      "  </p>\n",
      "  <p class=\"story\">\n",
      "   ...\n",
      "  </p>\n",
      " </body>\n",
      "</html>\n"
     ]
    }
   ],
   "source": [
    "fil=open('../apps/overall.css')\n",
    "z=fil.read()\n",
    "z=\"<head>\\n<style>\\n\"+z+\"\\n</style>\\n</head>\"\n",
    "\n",
    "zk=BeautifulSoup(z, 'html.parser')\n",
    "soup.head.replace_with(zk)\n",
    "print(soup.prettify())"
   ]
  },
  {
   "cell_type": "code",
   "execution_count": 16,
   "metadata": {
    "scrolled": false
   },
   "outputs": [
    {
     "name": "stdout",
     "output_type": "stream",
     "text": [
      "<!DOCTYPE html>\n",
      "<html>\n",
      " <head>\n",
      "  <style>\n",
      "   .button1 {\n",
      "  border-radius: 0px;\n",
      "  color: #ffffff;\n",
      "  background-color: #aa0000;\n",
      "  border: 1px solid #ffffff;\n",
      "  width: 130px;\n",
      "  height: 30px;\n",
      "  display: block;\n",
      "  /*transform: rotate(-20deg);*/\n",
      "}\n",
      "\n",
      ".button1:hover {\n",
      "  background-color: #550000;\n",
      "}\n",
      "\n",
      ".button2 {\n",
      "  border-radius: 0px;\n",
      "  color: #ffffff;\n",
      "  background-color: #aa0000;\n",
      "  border: 1px solid #ffffff;\n",
      "  width: 100px;\n",
      "  height: 30px;\n",
      "  display: inline;\n",
      "  /*transform: rotate(-20deg);*/\n",
      "}\n",
      "\n",
      ".button2:hover {\n",
      "  background-color: #550000;\n",
      "}\n",
      "\n",
      ".centered {\n",
      "  float: left;\n",
      "  position: relative;\n",
      "  left: 30%;\n",
      "}\n",
      "\n",
      ".centered2 {\n",
      "  float: left;\n",
      "  position: relative;\n",
      "  left: 10%;\n",
      "}\n",
      "\n",
      ".centered3 {\n",
      "  float: right;\n",
      "  position: relative;\n",
      "  right: 10%;\n",
      "}\n",
      "\n",
      "\n",
      ".widhinp {\n",
      "  display: inline-block;\n",
      "  width: 6em;\n",
      "  position: relative;\n",
      "}\n",
      "\n",
      ".widhlabel {\n",
      "  display: inline-block;\n",
      "  text-align: center;\n",
      "  width: 6em;\n",
      "  margin-right: 0.5em;\n",
      "}\n",
      "\n",
      "table{\n",
      "  border: 3px solid black;\n",
      "  border-collapse: collapse;\n",
      "}\n",
      "\n",
      "td{\n",
      "  border: 1px solid grey;\n",
      "  margin-left: 0px;\n",
      "  margin-top: 0px;\n",
      "}\n",
      "\n",
      ".wrapped{\n",
      "  position:relative;\n",
      "  width:500px;\n",
      "  height:300px;\n",
      "  overflow:scroll;\n",
      "}\n",
      "\n",
      "tbody tr:hover{\n",
      "  background-color: #DDDDDD;\n",
      "}\n",
      "  </style>\n",
      " </head>\n",
      " <body>\n",
      "  <div class=\"centered\">\n",
      "   <div style=\"margin-top:60px; width:100%\">\n",
      "    <button class=\"button1\" form=\"loader\" formmethod=\"post\" name=\"which\" style=\"display:inline\" type=\"submit\" value=\"loader\">\n",
      "     Load Map\n",
      "    </button>\n",
      "    <div style=\"display:inline-block; margin-left:15px\">\n",
      "     From\n",
      "    </div>\n",
      "    <form id=\"loader\" style=\"display:inline-block;\">\n",
      "     <input name=\"disk\" placeholder=\"Place on disk, e.g. ~/Sw/sprawko\" style=\"display:inline-block; margin-left:15px\" type=\"text\"/>\n",
      "    </form>\n",
      "   </div>\n",
      "   <div style=\"margin-top:20px; text-align:center\">\n",
      "    or\n",
      "   </div>\n",
      "   <div style=\"margin-top:20px;\">\n",
      "    <button class=\"button1\" form=\"nmap\" formmethod=\"post\" name=\"which\" style=\"display:inline; vertical-align:top;\" type=\"submit\" value=\"creator\">\n",
      "     Create new map\n",
      "    </button>\n",
      "    <div style=\"display:inline-block; margin-left:15px; vertical-align:top; margin-top:5px\">\n",
      "     With size:\n",
      "    </div>\n",
      "    <form id=\"nmap\" style=\"display:inline-block;\">\n",
      "     <label class=\"widhlabel\">\n",
      "      Width\n",
      "      <input class=\"widhinp\" name=\"wid\" style=\"display:inline-block; margin-left:15px; width:30px\" type=\"text\" value=\"300\"/>\n",
      "     </label>\n",
      "     <label class=\"widhlabel\">\n",
      "      Height\n",
      "      <input class=\"widhinp\" name=\"hei\" style=\"display:inline-block; margin-left:15px; width:30px\" type=\"text\" value=\"300\"/>\n",
      "     </label>\n",
      "    </form>\n",
      "   </div>\n",
      "  </div>\n",
      "  <script>\n",
      "   let docs = ['hero', 'army', 'army_connect'];evefun = function(e) {\n",
      "  e = e || window.event;\n",
      "  var target = e.target || e.srcElement,\n",
      "    text = target.textContent || target.innerText;\n",
      "\n",
      "  if (target.nodeName != \"TD\") {return;}\n",
      "\n",
      "\tdocument.getElementById(\"nonex\").innerHTML+=\"Beniz\";\n",
      "  var ln = target.parentElement.parentElement.parentElement.getElementsByTagName(\"tr\").length;\n",
      "  var real=target.parentElement.parentElement.parentElement.getAttribute(\"id\");\n",
      "  \n",
      "  for (i = 0; i < ln; i += 1) {\n",
      "    document.getElementById(real).getElementsByTagName(\"tr\")[i].style.color=\"#000000\";\n",
      "    document.getElementById(real).getElementsByTagName(\"tr\")[i].style.backgroundColor=\"#FFFFFF\";\n",
      "  }\n",
      "\t\n",
      "  target = target.parentElement;\n",
      "  var hed=target.parentElement.parentElement.getElementsByTagName(\"th\");\n",
      "  var elemz=target.getElementsByTagName(\"td\");\n",
      "\n",
      "\n",
      "  target.style.backgroundColor = \"#555555\";\n",
      "  target.style.color = \"#FFFFFF\";\n",
      "\n",
      "  document.getElementById(\"nonex\").innerHTML=\"\";\n",
      "  var lh=hed.length, i=0;\n",
      "  for (i=0;i<lh;i+=1){\n",
      "                var kv=document.createElement(\"input\");\n",
      "        kv.setAttribute(\"type\", \"text\");\n",
      "        kv.setAttribute(\"name\", hed[i].innerHTML);\n",
      "    kv.setAttribute(\"value\", elemz[i].innerHTML);\n",
      "    document.getElementById(\"nonex\").appendChild(kv);\n",
      "  }\n",
      "}\n",
      "\n",
      "\n",
      "var j=0;\n",
      "//Linia kluczowa - lista tablic do orania\n",
      "//let docs = [\"hero\", \"army\", \"army_connect\"];\n",
      "for (j=0;j<docs.length;j+=1){\n",
      "  for (i = 0; i < document.getElementById(docs[j]).getElementsByTagName(\"tr\").length; i += 1) {\n",
      "    document.getElementById(docs[j]).getElementsByTagName(\"tr\")[i].addEventListener('click', evefun, false);\n",
      "  }\n",
      "}\n",
      "  </script>\n",
      " </body>\n",
      "</html>\n",
      "\n"
     ]
    }
   ],
   "source": [
    "from bs4 import BeautifulSoup\n",
    "\n",
    "def changer(html_file, tablez=None):\n",
    "    soup = BeautifulSoup(html_file, 'html.parser')\n",
    "    fil=open('../apps/overall.css')\n",
    "    z=fil.read()\n",
    "    z=\"<head>\\n<style>\\n\"+z+\"\\n</style>\\n</head>\"\n",
    "    zv=\"<script>\"\n",
    "    if (tablez!=None):\n",
    "        zv=zv+f\"let docs = {str(tablez)};\" \n",
    "        fil=open('../apps/cud.js')\n",
    "        zv=zv+fil.read()\n",
    "    zv=zv+\"</script>\"\n",
    "    zk=BeautifulSoup(z, 'html.parser')\n",
    "    zv=BeautifulSoup(zv, 'html.parser')\n",
    "    \n",
    "    soup.head.replace_with(zk)\n",
    "    soup.body.append(zv)\n",
    "    d=soup.prettify()\n",
    "    return d\n",
    "\n",
    "cf=open('../apps/1start.html')\n",
    "cf=cf.read()\n",
    "print(changer(cf, ['hero', \"army\", \"army_connect\"]))"
   ]
  },
  {
   "cell_type": "code",
   "execution_count": 38,
   "metadata": {},
   "outputs": [
    {
     "name": "stdout",
     "output_type": "stream",
     "text": [
      " * Serving Flask app \"__main__\" (lazy loading)\n",
      " * Environment: production\n",
      "   WARNING: This is a development server. Do not use it in a production deployment.\n",
      "   Use a production WSGI server instead.\n",
      " * Debug mode: off\n"
     ]
    },
    {
     "name": "stderr",
     "output_type": "stream",
     "text": [
      " * Running on http://127.0.0.1:5000/ (Press CTRL+C to quit)\n",
      "127.0.0.1 - - [25/Jan/2020 22:49:48] \"\u001b[37mPOST /?wid=&hei= HTTP/1.1\u001b[0m\" 200 -\n"
     ]
    },
    {
     "name": "stdout",
     "output_type": "stream",
     "text": [
      "\n"
     ]
    },
    {
     "name": "stderr",
     "output_type": "stream",
     "text": [
      "127.0.0.1 - - [25/Jan/2020 22:49:48] \"\u001b[37mPOST /?wid=&hei= HTTP/1.1\u001b[0m\" 200 -\n"
     ]
    },
    {
     "name": "stdout",
     "output_type": "stream",
     "text": [
      "\n"
     ]
    },
    {
     "name": "stderr",
     "output_type": "stream",
     "text": [
      "127.0.0.1 - - [25/Jan/2020 22:49:58] \"\u001b[37mPOST /?wid=&hei= HTTP/1.1\u001b[0m\" 200 -\n"
     ]
    },
    {
     "name": "stdout",
     "output_type": "stream",
     "text": [
      "\n"
     ]
    },
    {
     "name": "stderr",
     "output_type": "stream",
     "text": [
      "127.0.0.1 - - [25/Jan/2020 22:50:01] \"\u001b[37mPOST /?wid=&hei= HTTP/1.1\u001b[0m\" 200 -\n"
     ]
    },
    {
     "name": "stdout",
     "output_type": "stream",
     "text": [
      "\n"
     ]
    },
    {
     "name": "stderr",
     "output_type": "stream",
     "text": [
      "127.0.0.1 - - [25/Jan/2020 22:50:04] \"\u001b[37mPOST /?wid=&hei= HTTP/1.1\u001b[0m\" 200 -\n"
     ]
    },
    {
     "name": "stdout",
     "output_type": "stream",
     "text": [
      "\n"
     ]
    },
    {
     "name": "stderr",
     "output_type": "stream",
     "text": [
      "127.0.0.1 - - [25/Jan/2020 22:50:07] \"\u001b[37mPOST /?wid=&hei= HTTP/1.1\u001b[0m\" 200 -\n"
     ]
    },
    {
     "name": "stdout",
     "output_type": "stream",
     "text": [
      "\n"
     ]
    },
    {
     "name": "stderr",
     "output_type": "stream",
     "text": [
      "127.0.0.1 - - [25/Jan/2020 22:50:45] \"\u001b[37mPOST /?wid=&hei= HTTP/1.1\u001b[0m\" 200 -\n"
     ]
    },
    {
     "name": "stdout",
     "output_type": "stream",
     "text": [
      "\n"
     ]
    }
   ],
   "source": [
    "\n",
    "from flask import Flask, redirect, url_for, request\n",
    "from beatsoup import changer\n",
    "\n",
    "app = Flask(__name__)\n",
    "\n",
    "@app.route('/overall.css')\n",
    "def css_route():\n",
    "    fil=open('../apps/overall.css')\n",
    "    return fil.read() \n",
    "\n",
    "@app.route('/', methods = ['POST', 'GET'])\n",
    "def hello_world():\n",
    "    if (request.method=='GET'):\n",
    "        fil=open('../apps/1start.html')\n",
    "        cf=fil.read()\n",
    "        return changer(cf)\n",
    "    if (request.method=='POST'):\n",
    "        u1 = request.args.get('wid')\n",
    "        u2 = request.args.get('hei')\n",
    "        fil=open('../apps/1start.html')\n",
    "        cf=fil.read()\n",
    "        try:\n",
    "            print(u1)\n",
    "        except:\n",
    "            print(\"CHUJ\")\n",
    "        return changer(cf)\n",
    "\n",
    "if __name__ == '__main__':\n",
    "    app.run()"
   ]
  },
  {
   "cell_type": "code",
   "execution_count": 11,
   "metadata": {},
   "outputs": [
    {
     "name": "stdout",
     "output_type": "stream",
     "text": [
      "['a', 'b', 'v']\n"
     ]
    }
   ],
   "source": [
    "tv=[\"a\", \"b\", \"v\"]\n",
    "print(str(tv))"
   ]
  },
  {
   "cell_type": "code",
   "execution_count": null,
   "metadata": {},
   "outputs": [],
   "source": []
  }
 ],
 "metadata": {
  "kernelspec": {
   "display_name": "Python 3",
   "language": "python",
   "name": "python3"
  },
  "language_info": {
   "codemirror_mode": {
    "name": "ipython",
    "version": 3
   },
   "file_extension": ".py",
   "mimetype": "text/x-python",
   "name": "python",
   "nbconvert_exporter": "python",
   "pygments_lexer": "ipython3",
   "version": "3.7.3"
  }
 },
 "nbformat": 4,
 "nbformat_minor": 2
}
